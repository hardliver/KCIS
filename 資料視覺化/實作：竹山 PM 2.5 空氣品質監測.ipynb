{
 "cells": [
  {
   "cell_type": "markdown",
   "metadata": {
    "colab_type": "text",
    "id": "o5DQVyR5Ptwb"
   },
   "source": [
    "# 網路爬蟲 (Web) Crawler\n",
    "2019/11/30 國立竹山高中 </br>\n",
    "By AI4Kids 團隊"
   ]
  },
  {
   "cell_type": "markdown",
   "metadata": {
    "colab_type": "text",
    "id": "0ZSupFsQPzab"
   },
   "source": [
    "## **網路爬蟲 (Web) Crawler 學習目標說明**\n",
    "* **1. 網際網路中有千千萬萬的資料，窮極一生也無法全部閱讀。而我們想要的不僅僅是簡單的資料，而是經過過濾、分析、彙整後的資訊，而網路爬蟲正是可以幫忙我們這樣做的工具之一。**\n",
    "\n",
    "</br>\n",
    "\n",
    "* **2.選定我們有興趣的資料，例如：(1) 商業的資訊 (2) 選舉、輿論的資訊 (3) 政府釋出的公開資料：氣象、空污、各國來台觀光...等等**\n",
    "\n",
    "</br>\n",
    "\n",
    "## **學習內容**\n",
    "### 第一部份：認識常用的資料分析套件 numpy, pandas\n",
    "* **1. 認識 numpy**\n",
    "* **2. 認識 pandas**\n",
    "* **3. 資料視覺化**\n",
    "\n",
    "**Ref: [python數據分析入門](https://hackmd.io/@cube/Bk9bwQppN)**\n",
    "\n",
    "### 第二部份：網路爬蟲 (Web) Crawler 實作\n",
    "* **實作：竹山 PM 2.5 空氣品質監測**\n",
    "\n",
    "**Ref: [Python 爬蟲筆記-1](https://medium.com/@gordonfang_85054/python-%E7%88%AC%E8%9F%B2%E7%AD%86%E8%A8%98-1-15fdec38393c)**\n",
    "\n",
    "### 第三部份：資料的分析、處理與視覺化\n",
    "* **1. 實作：資料分析、處理**\n",
    "* **2. 實作：資料視覺化**\n"
   ]
  },
  {
   "cell_type": "markdown",
   "metadata": {
    "colab_type": "text",
    "id": "GCuP5t_D4IP1"
   },
   "source": [
    "### **1. 認識 numpy**\n",
    "* 做數據分析時常把 list 轉成 array，NumPy 的 ndarray (N-Dimentional Array)是一個快速、節省空間的多維度陣列，可提供向量運算及複雜的功能。 \n",
    "\n",
    "</br>\n",
    "\n",
    "* NumPy 的 ndarray 中的所有元素的資料型態必須相同，每個陣列都有一個 shape(各維度大小的元組)和 dtype (元素資料類型)\n",
    "\n",
    "    轉換的優先順序為：字串 > 數字 > 布林。\n"
   ]
  },
  {
   "cell_type": "code",
   "execution_count": 16,
   "metadata": {
    "colab": {
     "base_uri": "https://localhost:8080/",
     "height": 90
    },
    "colab_type": "code",
    "executionInfo": {
     "elapsed": 1005,
     "status": "ok",
     "timestamp": 1575099011570,
     "user": {
      "displayName": "Robert Lee",
      "photoUrl": "https://lh3.googleusercontent.com/a-/AAuE7mBhOHUGxfirh_wOIfgHSEGD1GFjFxqB_8JRet3Y5g=s64",
      "userId": "17293573083270862240"
     },
     "user_tz": -480
    },
    "id": "v4-fQfGH3rDC",
    "outputId": "f97f8b72-8272-45da-f533-d3054ede1c6b"
   },
   "outputs": [
    {
     "name": "stdout",
     "output_type": "stream",
     "text": [
      "幾維陣列 = 1\n",
      "(3,)\n",
      "3\n",
      "float64\n"
     ]
    }
   ],
   "source": [
    "# --------------------------------------------\n",
    "# 使用 numpy 直接建立陣列\n",
    "import numpy as np\n",
    "\n",
    "# 1 維陣列\n",
    "a = np.array([1,2,3])            \n",
    "a\n",
    "print('幾維陣列 =',a.ndim)               # 幾維陣列\n",
    "print(a.shape)                          # 陣列形狀 \n",
    "print(a.size)                           # 陣列元素個數 \n",
    "\n",
    "a.dtype                          # 陣列的資料型態 \n",
    "a_f = a.astype(np.float64)       # 轉換成浮點數型態 \n",
    "print(a_f.dtype)"
   ]
  },
  {
   "cell_type": "code",
   "execution_count": 17,
   "metadata": {
    "colab": {
     "base_uri": "https://localhost:8080/",
     "height": 108
    },
    "colab_type": "code",
    "executionInfo": {
     "elapsed": 1334,
     "status": "ok",
     "timestamp": 1575099011925,
     "user": {
      "displayName": "Robert Lee",
      "photoUrl": "https://lh3.googleusercontent.com/a-/AAuE7mBhOHUGxfirh_wOIfgHSEGD1GFjFxqB_8JRet3Y5g=s64",
      "userId": "17293573083270862240"
     },
     "user_tz": -480
    },
    "id": "1csvR83X3_wT",
    "outputId": "79b274af-2ff8-4c49-a734-90e082a9b401"
   },
   "outputs": [
    {
     "name": "stdout",
     "output_type": "stream",
     "text": [
      "[1.   2.2  3.33]\n",
      "float64\n",
      "幾維陣列 = 2\n",
      "(2, 3)\n",
      "6\n"
     ]
    }
   ],
   "source": [
    "# --------------------------------------------\n",
    "# 2 維陣列\n",
    "b = np.array(['1','2.2','3.33'])\n",
    "b_f = b.astype(float)            # 字串陣列若全都是數字，可用astype將其轉換為數值\n",
    "print(b_f)\n",
    "print(b_f.dtype)\n",
    "\n",
    "c = np.array([[1,2,3], [4,5,6]]) # 二維陣列\n",
    "c\n",
    "print('幾維陣列 =', c.ndim)\n",
    "print(c.shape)\n",
    "print(c.size)"
   ]
  },
  {
   "cell_type": "markdown",
   "metadata": {
    "colab_type": "text",
    "id": "ck1rLzQG3mTt"
   },
   "source": [
    "### **2. 認識 pandas**\n",
    "\n",
    "* **Python 的 Excel，pandas 可以擷取 JSON, CSV, Excel, HTML 等格式的資料，主要資料型態有 Series(一維)、DataFrame(二維、類似表格)。**\n",
    "\n",
    "* **基於 Numpy 構建，包含許多操作資料與統計的函式，讓以 NumPy 為中心的應用變的更加簡單。**"
   ]
  },
  {
   "cell_type": "code",
   "execution_count": 1,
   "metadata": {
    "colab": {
     "base_uri": "https://localhost:8080/",
     "height": 434
    },
    "colab_type": "code",
    "executionInfo": {
     "elapsed": 1355,
     "status": "error",
     "timestamp": 1575099011965,
     "user": {
      "displayName": "Robert Lee",
      "photoUrl": "https://lh3.googleusercontent.com/a-/AAuE7mBhOHUGxfirh_wOIfgHSEGD1GFjFxqB_8JRet3Y5g=s64",
      "userId": "17293573083270862240"
     },
     "user_tz": -480
    },
    "id": "derxar1U7JsN",
    "outputId": "a91468d9-826d-4be9-f33e-634664477e3d"
   },
   "outputs": [],
   "source": [
    "# --------------------------------------------\n",
    "# 讀檔範例：讀取 CSV 檔案\n",
    "# 以 OpenData 的 AQI 資料為例: 至 https://opendata.epa.gov.tw/ws/Data/AQI/?$format=csv 下載回 CSV 檔。\n",
    "#\n",
    "# 下行程式碼，直接執行會報錯誤！須先修改 [使用者登入名稱] 才能正常運作。\n",
    "import pandas as pd\n",
    "df=pd.read_csv(r'C:\\Users\\[使用者登入名稱]\\Desktop\\AQI.csv')"
   ]
  },
  {
   "cell_type": "code",
   "execution_count": 2,
   "metadata": {
    "colab": {
     "base_uri": "https://localhost:8080/",
     "height": 454
    },
    "colab_type": "code",
    "executionInfo": {
     "elapsed": 3315,
     "status": "ok",
     "timestamp": 1575099046507,
     "user": {
      "displayName": "Robert Lee",
      "photoUrl": "https://lh3.googleusercontent.com/a-/AAuE7mBhOHUGxfirh_wOIfgHSEGD1GFjFxqB_8JRet3Y5g=s64",
      "userId": "17293573083270862240"
     },
     "user_tz": -480
    },
    "id": "442X9yrE7kEP",
    "outputId": "1cab963a-1e22-49d2-e89d-0d0ba837b6f7"
   },
   "outputs": [
    {
     "data": {
      "text/plain": [
       "\"\\nfilename='money_exchange_rate.csv'\\ndf = html_file[0]\\ndf.to_csv(filename, index=False)\\n\""
      ]
     },
     "execution_count": 2,
     "metadata": {},
     "output_type": "execute_result"
    }
   ],
   "source": [
    "# --------------------------------------------\n",
    "# 讀檔範例：讀取 Html 檔案\n",
    "# 台灣銀行 牌告匯率 網頁：http://rate.bot.com.tw/xrt?Lang=zh-TW\n",
    "# import pandas as pd\n",
    "# html_file = pd.read_html('http://rate.bot.com.tw/xrt?Lang=zh-TW') \n",
    "# print(html_file[0])\n",
    "\n",
    "'''\n",
    "filename='money_exchange_rate.csv'\n",
    "df = html_file[0]\n",
    "df.to_csv(filename, index=False)\n",
    "'''"
   ]
  },
  {
   "cell_type": "code",
   "execution_count": null,
   "metadata": {
    "colab": {},
    "colab_type": "code",
    "id": "gXFQYYg98Nsm"
   },
   "outputs": [],
   "source": [
    "# --------------------------------------------\n",
    "# 檔案下載範例\n",
    "#\n",
    "# 注意：下載時，若是有 network error 則試著再 run 一次\n",
    "# \n",
    "from google.colab import files\n",
    "filename='money_exchange_rate.csv'\n",
    "\n",
    "# 存檔至 csv 中\n",
    "df=html_file[0]\n",
    "df.to_csv(filename,encoding='utf8')  \n",
    "\n",
    "# 下載\n",
    "files.download(filename)"
   ]
  },
  {
   "cell_type": "markdown",
   "metadata": {
    "colab_type": "text",
    "id": "DBRhc4b3KHhS"
   },
   "source": [
    "### **3. 資料視覺化(使用 numpy 為例)**\n",
    "* **利用 matplotlib 繪圖套件，將資料以圖表方式具體呈現**"
   ]
  },
  {
   "cell_type": "code",
   "execution_count": 1,
   "metadata": {
    "colab": {
     "base_uri": "https://localhost:8080/",
     "height": 304
    },
    "colab_type": "code",
    "executionInfo": {
     "elapsed": 4787,
     "status": "ok",
     "timestamp": 1575099048015,
     "user": {
      "displayName": "Robert Lee",
      "photoUrl": "https://lh3.googleusercontent.com/a-/AAuE7mBhOHUGxfirh_wOIfgHSEGD1GFjFxqB_8JRet3Y5g=s64",
      "userId": "17293573083270862240"
     },
     "user_tz": -480
    },
    "id": "SHVTg5Ii7yCn",
    "outputId": "d6c54cb2-e281-475c-94da-cc6f364a9e66"
   },
   "outputs": [
    {
     "name": "stdout",
     "output_type": "stream",
     "text": [
      "[0 1 2 3 4 5 6 7 8 9]\n"
     ]
    },
    {
     "data": {
      "text/plain": [
       "[<matplotlib.lines.Line2D at 0x10ab4ebe0>]"
      ]
     },
     "execution_count": 1,
     "metadata": {},
     "output_type": "execute_result"
    },
    {
     "data": {
      "image/png": "[encoded data removed]",
      "text/plain": [
       "<Figure size 432x288 with 1 Axes>"
      ]
     },
     "metadata": {
      "needs_background": "light"
     },
     "output_type": "display_data"
    }
   ],
   "source": [
    "# --------------------------------------------\n",
    "# 使用 matplotlib 套件來繪圖 \n",
    "# 在 colab 或是 jupyter notebook 須執行以下這行指令，就可讓圖立即顯示出來。 \n",
    "%matplotlib inline  \n",
    "\n",
    "# 繪圖練習\n",
    "import matplotlib.pyplot as plt\n",
    "import numpy as np\n",
    "data = np.arange(10)\n",
    "print(data)\n",
    "plt.plot(data)"
   ]
  },
  {
   "cell_type": "code",
   "execution_count": 3,
   "metadata": {
    "colab": {
     "base_uri": "https://localhost:8080/",
     "height": 303
    },
    "colab_type": "code",
    "executionInfo": {
     "elapsed": 5196,
     "status": "ok",
     "timestamp": 1575099048437,
     "user": {
      "displayName": "Robert Lee",
      "photoUrl": "https://lh3.googleusercontent.com/a-/AAuE7mBhOHUGxfirh_wOIfgHSEGD1GFjFxqB_8JRet3Y5g=s64",
      "userId": "17293573083270862240"
     },
     "user_tz": -480
    },
    "id": "uwlyY9NUD-s5",
    "outputId": "02828fdc-b201-4cb7-a846-b132ff7e93ca"
   },
   "outputs": [
    {
     "data": {
      "text/plain": [
       "Text(0, 0.5, 'y label')"
      ]
     },
     "execution_count": 3,
     "metadata": {},
     "output_type": "execute_result"
    },
    {
     "data": {
      "image/png": "[encoded data removed]",
      "text/plain": [
       "<Figure size 432x288 with 1 Axes>"
      ]
     },
     "metadata": {
      "needs_background": "light"
     },
     "output_type": "display_data"
    }
   ],
   "source": [
    "import matplotlib.pyplot as plt\n",
    "\n",
    "x = [1, 2, 3, 4, 5]\n",
    "y = [2, 9, 4, 8, 3]\n",
    "plt.plot(x, y)\n",
    "plt.xlabel('x label')            # 加上座標軸的label\n",
    "plt.ylabel('y label')"
   ]
  },
  {
   "cell_type": "markdown",
   "metadata": {
    "colab_type": "text",
    "id": "SQYf9LQZzT6H"
   },
   "source": [
    "# 第二部份：網路爬蟲 (Web) Crawler 實作\n",
    "## 實作：竹山 PM 2.5 空氣品質監測\n",
    "\n",
    "此程式碼示範如何使用政府開放資料平台，取得竹山空氣監測站的資訊。取得空氣監測數據後，便可以再自行進一步的運用\n",
    "\n",
    "API來源\n",
    "\n",
    "https://opendata.epa.gov.tw/Data/Details/ATM00615/\n",
    "\n",
    "使用說明\n",
    "\n",
    "https://opendata.epa.gov.tw/DevelopZone/Sample/ATM00615/"
   ]
  },
  {
   "cell_type": "code",
   "execution_count": 23,
   "metadata": {
    "colab": {
     "base_uri": "https://localhost:8080/",
     "height": 308
    },
    "colab_type": "code",
    "executionInfo": {
     "elapsed": 12502,
     "status": "ok",
     "timestamp": 1575099055754,
     "user": {
      "displayName": "Robert Lee",
      "photoUrl": "https://lh3.googleusercontent.com/a-/AAuE7mBhOHUGxfirh_wOIfgHSEGD1GFjFxqB_8JRet3Y5g=s64",
      "userId": "17293573083270862240"
     },
     "user_tz": -480
    },
    "id": "LKpCqunNnthf",
    "outputId": "d7d4e2f4-144f-4372-a141-7afa393ffaa8"
   },
   "outputs": [
    {
     "name": "stdout",
     "output_type": "stream",
     "text": [
      "<class 'pandas.core.frame.DataFrame'>\n",
      "資料筆數 = 1000\n",
      "   SiteId SiteName County  ... ItemUnit             MonitorDate Concentration\n",
      "0      69       竹山    南投縣  ...    μg/m3  2019/11/30 下午 02:00:00            52\n",
      "1      69       竹山    南投縣  ...      ppb  2019/11/30 下午 02:00:00          7.69\n",
      "2      69       竹山    南投縣  ...    μg/m3  2019/11/30 下午 02:00:00            98\n",
      "3      69       竹山    南投縣  ...      ppb  2019/11/30 下午 02:00:00            87\n",
      "4      69       竹山    南投縣  ...      ppm  2019/11/30 下午 02:00:00           .39\n",
      "..    ...      ...    ...  ...      ...                     ...           ...\n",
      "95     69       竹山    南投縣  ...      ppb  2019/11/29 下午 11:00:00           2.7\n",
      "96     69       竹山    南投縣  ...    μg/m3  2019/11/29 下午 10:00:00            31\n",
      "97     69       竹山    南投縣  ...      ppb  2019/11/29 下午 10:00:00         18.25\n",
      "98     69       竹山    南投縣  ...    μg/m3  2019/11/29 下午 10:00:00            55\n",
      "99     69       竹山    南投縣  ...      ppb  2019/11/29 下午 10:00:00          12.9\n",
      "\n",
      "[100 rows x 9 columns]\n"
     ]
    }
   ],
   "source": [
    "# --------------------------------------------\n",
    "###     爬蟲主體程式\n",
    "# --------------------------------------------\n",
    "# 匯入將會使用到的套件\n",
    "import http.client\n",
    "import ssl\n",
    "import json\n",
    "import pandas as pd\n",
    "from pandas.io.json import json_normalize\n",
    "import seaborn as sns\n",
    "sns.set()\n",
    "\n",
    "# API 主機位置\n",
    "host = \"opendata.epa.gov.tw\"\n",
    "\n",
    "# API 目錄\n",
    "url = \"/webapi/api/rest/datastore/\"\n",
    "\n",
    "# API 資源 ID (南投縣竹山)\n",
    "resource_id = \"355000000I-000197\"\n",
    "\n",
    "resource_url = url+resource_id\n",
    "\n",
    "# HTTP Headers, 表示要收到 json type 格式的回應\n",
    "headers = {'Content-Type': \"application/json\"}\n",
    "\n",
    "# 使用自簽 SSL，避免 HTTPS 連結的錯誤\n",
    "ssl = ssl._create_unverified_context()\n",
    "\n",
    "# 設定HTTPS連線目的地主機，並加入自簽的SSL憑證\n",
    "conn = http.client.HTTPSConnection(host, context = ssl)\n",
    "\n",
    "# 下載指定的 API 資料\n",
    "conn.request(\"GET\", resource_url, headers=headers)\n",
    "\n",
    "# 取得 API 回應結果\n",
    "res = conn.getresponse()\n",
    "\n",
    "# 將回應結果裡的內容讀出\n",
    "data = res.read()\n",
    "\n",
    "# 將回應結果的內容，以 UTF-8 編碼轉換成 JSON 格式\n",
    "json_data = json.loads(data, encoding='utf8')\n",
    "\n",
    "# 查看取得的 json 內容\n",
    "#print(json.dumps(json_data['result']['records'],ensure_ascii=False, indent=2))\n",
    "\n",
    "# 把取得的內容，載入 pandas datafram\n",
    "df = json_normalize(json_data['result']['records'])\n",
    "\n",
    "# 查看資料筆數\n",
    "print(type(df))\n",
    "print('資料筆數 =', len(df))\n",
    "\n",
    "# 查看前 10 筆的資料\n",
    "print(df.head(100))\n",
    "\n"
   ]
  },
  {
   "cell_type": "markdown",
   "metadata": {
    "colab_type": "text",
    "id": "3A8GP1ZT8yfC"
   },
   "source": [
    "# 第三部份：資料的分析、處理與視覺化\n",
    "## **1. 實作：資料分析與研究**\n",
    "\n",
    "**資料透過爬蟲程式抓回來後，接下來就是資料的分析與後續處理！**\n",
    "\n",
    "**Ref: [Python 資料處理筆記 - 使用Panda進行數據處理 (2018-11-22)](https://medium.com/@yanweiliu/python-pandas%E4%BD%BF%E7%94%A8%E7%AD%86%E8%A8%98-a4682e254d90)**"
   ]
  },
  {
   "cell_type": "code",
   "execution_count": 24,
   "metadata": {
    "colab": {
     "base_uri": "https://localhost:8080/",
     "height": 660
    },
    "colab_type": "code",
    "executionInfo": {
     "elapsed": 12494,
     "status": "ok",
     "timestamp": 1575099055759,
     "user": {
      "displayName": "Robert Lee",
      "photoUrl": "https://lh3.googleusercontent.com/a-/AAuE7mBhOHUGxfirh_wOIfgHSEGD1GFjFxqB_8JRet3Y5g=s64",
      "userId": "17293573083270862240"
     },
     "user_tz": -480
    },
    "id": "mtOrCGDjt-LV",
    "outputId": "21f5ffbc-cba1-4cec-93c6-2c1d0503349e"
   },
   "outputs": [
    {
     "name": "stdout",
     "output_type": "stream",
     "text": [
      "(1000, 9)\n",
      "==============================\n",
      "SiteId           object\n",
      "SiteName         object\n",
      "County           object\n",
      "ItemId           object\n",
      "ItemName         object\n",
      "ItemEngName      object\n",
      "ItemUnit         object\n",
      "MonitorDate      object\n",
      "Concentration    object\n",
      "dtype: object\n",
      "==============================\n"
     ]
    },
    {
     "data": {
      "text/html": [
       "<div>\n",
       "<style scoped>\n",
       "    .dataframe tbody tr th:only-of-type {\n",
       "        vertical-align: middle;\n",
       "    }\n",
       "\n",
       "    .dataframe tbody tr th {\n",
       "        vertical-align: top;\n",
       "    }\n",
       "\n",
       "    .dataframe thead th {\n",
       "        text-align: right;\n",
       "    }\n",
       "</style>\n",
       "<table border=\"1\" class=\"dataframe\">\n",
       "  <thead>\n",
       "    <tr style=\"text-align: right;\">\n",
       "      <th></th>\n",
       "      <th>ItemEngName</th>\n",
       "    </tr>\n",
       "  </thead>\n",
       "  <tbody>\n",
       "    <tr>\n",
       "      <th>0</th>\n",
       "      <td>PM2.5</td>\n",
       "    </tr>\n",
       "    <tr>\n",
       "      <th>1</th>\n",
       "      <td>NO2</td>\n",
       "    </tr>\n",
       "    <tr>\n",
       "      <th>2</th>\n",
       "      <td>PM10</td>\n",
       "    </tr>\n",
       "    <tr>\n",
       "      <th>3</th>\n",
       "      <td>O3</td>\n",
       "    </tr>\n",
       "    <tr>\n",
       "      <th>4</th>\n",
       "      <td>CO</td>\n",
       "    </tr>\n",
       "    <tr>\n",
       "      <th>...</th>\n",
       "      <td>...</td>\n",
       "    </tr>\n",
       "    <tr>\n",
       "      <th>995</th>\n",
       "      <td>SO2</td>\n",
       "    </tr>\n",
       "    <tr>\n",
       "      <th>996</th>\n",
       "      <td>PM2.5</td>\n",
       "    </tr>\n",
       "    <tr>\n",
       "      <th>997</th>\n",
       "      <td>NO2</td>\n",
       "    </tr>\n",
       "    <tr>\n",
       "      <th>998</th>\n",
       "      <td>PM10</td>\n",
       "    </tr>\n",
       "    <tr>\n",
       "      <th>999</th>\n",
       "      <td>O3</td>\n",
       "    </tr>\n",
       "  </tbody>\n",
       "</table>\n",
       "<p>1000 rows × 1 columns</p>\n",
       "</div>"
      ],
      "text/plain": [
       "    ItemEngName\n",
       "0         PM2.5\n",
       "1           NO2\n",
       "2          PM10\n",
       "3            O3\n",
       "4            CO\n",
       "..          ...\n",
       "995         SO2\n",
       "996       PM2.5\n",
       "997         NO2\n",
       "998        PM10\n",
       "999          O3\n",
       "\n",
       "[1000 rows x 1 columns]"
      ]
     },
     "execution_count": 24,
     "metadata": {
      "tags": []
     },
     "output_type": "execute_result"
    }
   ],
   "source": [
    "# --------------------------------------------\n",
    "### 資料爬回之後，接下來就是資料處理\n",
    "# --------------------------------------------\n",
    "### 資料分析與研究\n",
    "# --------------------------------------------\n",
    "# 印出 df 的 資料筆數 與 欄位數\n",
    "print(df.shape)\n",
    "print('==============================')\n",
    "\n",
    "# 印出 df 的欄位名稱\n",
    "print(df.dtypes)\n",
    "print('==============================')\n",
    "\n",
    "#print(df.describe())\n",
    "df[['ItemEngName']]            # 顯示欄位 ItemEngName 的資料"
   ]
  },
  {
   "cell_type": "code",
   "execution_count": 25,
   "metadata": {
    "colab": {
     "base_uri": "https://localhost:8080/",
     "height": 791
    },
    "colab_type": "code",
    "executionInfo": {
     "elapsed": 12482,
     "status": "ok",
     "timestamp": 1575099055762,
     "user": {
      "displayName": "Robert Lee",
      "photoUrl": "https://lh3.googleusercontent.com/a-/AAuE7mBhOHUGxfirh_wOIfgHSEGD1GFjFxqB_8JRet3Y5g=s64",
      "userId": "17293573083270862240"
     },
     "user_tz": -480
    },
    "id": "Nu2SI0kY7Q8J",
    "outputId": "75e7dc7f-269e-4479-ece8-db8eaaa49934"
   },
   "outputs": [
    {
     "data": {
      "text/html": [
       "<div>\n",
       "<style scoped>\n",
       "    .dataframe tbody tr th:only-of-type {\n",
       "        vertical-align: middle;\n",
       "    }\n",
       "\n",
       "    .dataframe tbody tr th {\n",
       "        vertical-align: top;\n",
       "    }\n",
       "\n",
       "    .dataframe thead th {\n",
       "        text-align: right;\n",
       "    }\n",
       "</style>\n",
       "<table border=\"1\" class=\"dataframe\">\n",
       "  <thead>\n",
       "    <tr style=\"text-align: right;\">\n",
       "      <th></th>\n",
       "      <th>SiteId</th>\n",
       "      <th>SiteName</th>\n",
       "      <th>County</th>\n",
       "      <th>ItemId</th>\n",
       "      <th>ItemName</th>\n",
       "      <th>ItemEngName</th>\n",
       "      <th>ItemUnit</th>\n",
       "      <th>MonitorDate</th>\n",
       "      <th>Concentration</th>\n",
       "    </tr>\n",
       "  </thead>\n",
       "  <tbody>\n",
       "    <tr>\n",
       "      <th>0</th>\n",
       "      <td>69</td>\n",
       "      <td>竹山</td>\n",
       "      <td>南投縣</td>\n",
       "      <td>33</td>\n",
       "      <td>細懸浮微粒</td>\n",
       "      <td>PM2.5</td>\n",
       "      <td>μg/m3</td>\n",
       "      <td>2019/11/30 下午 02:00:00</td>\n",
       "      <td>52</td>\n",
       "    </tr>\n",
       "    <tr>\n",
       "      <th>1</th>\n",
       "      <td>69</td>\n",
       "      <td>竹山</td>\n",
       "      <td>南投縣</td>\n",
       "      <td>7</td>\n",
       "      <td>二氧化氮</td>\n",
       "      <td>NO2</td>\n",
       "      <td>ppb</td>\n",
       "      <td>2019/11/30 下午 02:00:00</td>\n",
       "      <td>7.69</td>\n",
       "    </tr>\n",
       "    <tr>\n",
       "      <th>2</th>\n",
       "      <td>69</td>\n",
       "      <td>竹山</td>\n",
       "      <td>南投縣</td>\n",
       "      <td>4</td>\n",
       "      <td>懸浮微粒</td>\n",
       "      <td>PM10</td>\n",
       "      <td>μg/m3</td>\n",
       "      <td>2019/11/30 下午 02:00:00</td>\n",
       "      <td>98</td>\n",
       "    </tr>\n",
       "    <tr>\n",
       "      <th>3</th>\n",
       "      <td>69</td>\n",
       "      <td>竹山</td>\n",
       "      <td>南投縣</td>\n",
       "      <td>3</td>\n",
       "      <td>臭氧</td>\n",
       "      <td>O3</td>\n",
       "      <td>ppb</td>\n",
       "      <td>2019/11/30 下午 02:00:00</td>\n",
       "      <td>87</td>\n",
       "    </tr>\n",
       "    <tr>\n",
       "      <th>4</th>\n",
       "      <td>69</td>\n",
       "      <td>竹山</td>\n",
       "      <td>南投縣</td>\n",
       "      <td>2</td>\n",
       "      <td>一氧化碳</td>\n",
       "      <td>CO</td>\n",
       "      <td>ppm</td>\n",
       "      <td>2019/11/30 下午 02:00:00</td>\n",
       "      <td>.39</td>\n",
       "    </tr>\n",
       "    <tr>\n",
       "      <th>...</th>\n",
       "      <td>...</td>\n",
       "      <td>...</td>\n",
       "      <td>...</td>\n",
       "      <td>...</td>\n",
       "      <td>...</td>\n",
       "      <td>...</td>\n",
       "      <td>...</td>\n",
       "      <td>...</td>\n",
       "      <td>...</td>\n",
       "    </tr>\n",
       "    <tr>\n",
       "      <th>995</th>\n",
       "      <td>69</td>\n",
       "      <td>竹山</td>\n",
       "      <td>南投縣</td>\n",
       "      <td>1</td>\n",
       "      <td>二氧化硫</td>\n",
       "      <td>SO2</td>\n",
       "      <td>ppb</td>\n",
       "      <td>2019/11/23 下午 12:00:00</td>\n",
       "      <td>0</td>\n",
       "    </tr>\n",
       "    <tr>\n",
       "      <th>996</th>\n",
       "      <td>69</td>\n",
       "      <td>竹山</td>\n",
       "      <td>南投縣</td>\n",
       "      <td>33</td>\n",
       "      <td>細懸浮微粒</td>\n",
       "      <td>PM2.5</td>\n",
       "      <td>μg/m3</td>\n",
       "      <td>2019/11/23 上午 11:00:00</td>\n",
       "      <td>20</td>\n",
       "    </tr>\n",
       "    <tr>\n",
       "      <th>997</th>\n",
       "      <td>69</td>\n",
       "      <td>竹山</td>\n",
       "      <td>南投縣</td>\n",
       "      <td>7</td>\n",
       "      <td>二氧化氮</td>\n",
       "      <td>NO2</td>\n",
       "      <td>ppb</td>\n",
       "      <td>2019/11/23 上午 11:00:00</td>\n",
       "      <td>4.94</td>\n",
       "    </tr>\n",
       "    <tr>\n",
       "      <th>998</th>\n",
       "      <td>69</td>\n",
       "      <td>竹山</td>\n",
       "      <td>南投縣</td>\n",
       "      <td>4</td>\n",
       "      <td>懸浮微粒</td>\n",
       "      <td>PM10</td>\n",
       "      <td>μg/m3</td>\n",
       "      <td>2019/11/23 上午 11:00:00</td>\n",
       "      <td>34</td>\n",
       "    </tr>\n",
       "    <tr>\n",
       "      <th>999</th>\n",
       "      <td>69</td>\n",
       "      <td>竹山</td>\n",
       "      <td>南投縣</td>\n",
       "      <td>3</td>\n",
       "      <td>臭氧</td>\n",
       "      <td>O3</td>\n",
       "      <td>ppb</td>\n",
       "      <td>2019/11/23 上午 11:00:00</td>\n",
       "      <td>57.4</td>\n",
       "    </tr>\n",
       "  </tbody>\n",
       "</table>\n",
       "<p>1000 rows × 9 columns</p>\n",
       "</div>"
      ],
      "text/plain": [
       "    SiteId SiteName County  ... ItemUnit             MonitorDate Concentration\n",
       "0       69       竹山    南投縣  ...    μg/m3  2019/11/30 下午 02:00:00            52\n",
       "1       69       竹山    南投縣  ...      ppb  2019/11/30 下午 02:00:00          7.69\n",
       "2       69       竹山    南投縣  ...    μg/m3  2019/11/30 下午 02:00:00            98\n",
       "3       69       竹山    南投縣  ...      ppb  2019/11/30 下午 02:00:00            87\n",
       "4       69       竹山    南投縣  ...      ppm  2019/11/30 下午 02:00:00           .39\n",
       "..     ...      ...    ...  ...      ...                     ...           ...\n",
       "995     69       竹山    南投縣  ...      ppb  2019/11/23 下午 12:00:00             0\n",
       "996     69       竹山    南投縣  ...    μg/m3  2019/11/23 上午 11:00:00            20\n",
       "997     69       竹山    南投縣  ...      ppb  2019/11/23 上午 11:00:00          4.94\n",
       "998     69       竹山    南投縣  ...    μg/m3  2019/11/23 上午 11:00:00            34\n",
       "999     69       竹山    南投縣  ...      ppb  2019/11/23 上午 11:00:00          57.4\n",
       "\n",
       "[1000 rows x 9 columns]"
      ]
     },
     "execution_count": 25,
     "metadata": {
      "tags": []
     },
     "output_type": "execute_result"
    }
   ],
   "source": [
    "df"
   ]
  },
  {
   "cell_type": "code",
   "execution_count": 26,
   "metadata": {
    "colab": {
     "base_uri": "https://localhost:8080/",
     "height": 791
    },
    "colab_type": "code",
    "executionInfo": {
     "elapsed": 12472,
     "status": "ok",
     "timestamp": 1575099055765,
     "user": {
      "displayName": "Robert Lee",
      "photoUrl": "https://lh3.googleusercontent.com/a-/AAuE7mBhOHUGxfirh_wOIfgHSEGD1GFjFxqB_8JRet3Y5g=s64",
      "userId": "17293573083270862240"
     },
     "user_tz": -480
    },
    "id": "cno9S7ZvA9yO",
    "outputId": "e8828610-8120-42e2-8f66-fc5e07e4fc7f"
   },
   "outputs": [
    {
     "data": {
      "text/html": [
       "<div>\n",
       "<style scoped>\n",
       "    .dataframe tbody tr th:only-of-type {\n",
       "        vertical-align: middle;\n",
       "    }\n",
       "\n",
       "    .dataframe tbody tr th {\n",
       "        vertical-align: top;\n",
       "    }\n",
       "\n",
       "    .dataframe thead th {\n",
       "        text-align: right;\n",
       "    }\n",
       "</style>\n",
       "<table border=\"1\" class=\"dataframe\">\n",
       "  <thead>\n",
       "    <tr style=\"text-align: right;\">\n",
       "      <th></th>\n",
       "      <th>SiteId</th>\n",
       "      <th>SiteName</th>\n",
       "      <th>County</th>\n",
       "      <th>ItemId</th>\n",
       "      <th>ItemName</th>\n",
       "      <th>ItemEngName</th>\n",
       "      <th>ItemUnit</th>\n",
       "      <th>MonitorDate</th>\n",
       "      <th>Concentration</th>\n",
       "    </tr>\n",
       "  </thead>\n",
       "  <tbody>\n",
       "    <tr>\n",
       "      <th>0</th>\n",
       "      <td>69</td>\n",
       "      <td>竹山</td>\n",
       "      <td>南投縣</td>\n",
       "      <td>33</td>\n",
       "      <td>細懸浮微粒</td>\n",
       "      <td>PM2.5</td>\n",
       "      <td>μg/m3</td>\n",
       "      <td>2019/11/30 下午 02:00:00</td>\n",
       "      <td>52</td>\n",
       "    </tr>\n",
       "    <tr>\n",
       "      <th>6</th>\n",
       "      <td>69</td>\n",
       "      <td>竹山</td>\n",
       "      <td>南投縣</td>\n",
       "      <td>33</td>\n",
       "      <td>細懸浮微粒</td>\n",
       "      <td>PM2.5</td>\n",
       "      <td>μg/m3</td>\n",
       "      <td>2019/11/30 下午 01:00:00</td>\n",
       "      <td>49</td>\n",
       "    </tr>\n",
       "    <tr>\n",
       "      <th>12</th>\n",
       "      <td>69</td>\n",
       "      <td>竹山</td>\n",
       "      <td>南投縣</td>\n",
       "      <td>33</td>\n",
       "      <td>細懸浮微粒</td>\n",
       "      <td>PM2.5</td>\n",
       "      <td>μg/m3</td>\n",
       "      <td>2019/11/30 下午 12:00:00</td>\n",
       "      <td>34</td>\n",
       "    </tr>\n",
       "    <tr>\n",
       "      <th>18</th>\n",
       "      <td>69</td>\n",
       "      <td>竹山</td>\n",
       "      <td>南投縣</td>\n",
       "      <td>33</td>\n",
       "      <td>細懸浮微粒</td>\n",
       "      <td>PM2.5</td>\n",
       "      <td>μg/m3</td>\n",
       "      <td>2019/11/30 上午 11:00:00</td>\n",
       "      <td>24</td>\n",
       "    </tr>\n",
       "    <tr>\n",
       "      <th>24</th>\n",
       "      <td>69</td>\n",
       "      <td>竹山</td>\n",
       "      <td>南投縣</td>\n",
       "      <td>33</td>\n",
       "      <td>細懸浮微粒</td>\n",
       "      <td>PM2.5</td>\n",
       "      <td>μg/m3</td>\n",
       "      <td>2019/11/30 上午 10:00:00</td>\n",
       "      <td>15</td>\n",
       "    </tr>\n",
       "    <tr>\n",
       "      <th>...</th>\n",
       "      <td>...</td>\n",
       "      <td>...</td>\n",
       "      <td>...</td>\n",
       "      <td>...</td>\n",
       "      <td>...</td>\n",
       "      <td>...</td>\n",
       "      <td>...</td>\n",
       "      <td>...</td>\n",
       "      <td>...</td>\n",
       "    </tr>\n",
       "    <tr>\n",
       "      <th>972</th>\n",
       "      <td>69</td>\n",
       "      <td>竹山</td>\n",
       "      <td>南投縣</td>\n",
       "      <td>33</td>\n",
       "      <td>細懸浮微粒</td>\n",
       "      <td>PM2.5</td>\n",
       "      <td>μg/m3</td>\n",
       "      <td>2019/11/23 下午 03:00:00</td>\n",
       "      <td>37</td>\n",
       "    </tr>\n",
       "    <tr>\n",
       "      <th>978</th>\n",
       "      <td>69</td>\n",
       "      <td>竹山</td>\n",
       "      <td>南投縣</td>\n",
       "      <td>33</td>\n",
       "      <td>細懸浮微粒</td>\n",
       "      <td>PM2.5</td>\n",
       "      <td>μg/m3</td>\n",
       "      <td>2019/11/23 下午 02:00:00</td>\n",
       "      <td>51</td>\n",
       "    </tr>\n",
       "    <tr>\n",
       "      <th>984</th>\n",
       "      <td>69</td>\n",
       "      <td>竹山</td>\n",
       "      <td>南投縣</td>\n",
       "      <td>33</td>\n",
       "      <td>細懸浮微粒</td>\n",
       "      <td>PM2.5</td>\n",
       "      <td>μg/m3</td>\n",
       "      <td>2019/11/23 下午 01:00:00</td>\n",
       "      <td>32</td>\n",
       "    </tr>\n",
       "    <tr>\n",
       "      <th>990</th>\n",
       "      <td>69</td>\n",
       "      <td>竹山</td>\n",
       "      <td>南投縣</td>\n",
       "      <td>33</td>\n",
       "      <td>細懸浮微粒</td>\n",
       "      <td>PM2.5</td>\n",
       "      <td>μg/m3</td>\n",
       "      <td>2019/11/23 下午 12:00:00</td>\n",
       "      <td>25</td>\n",
       "    </tr>\n",
       "    <tr>\n",
       "      <th>996</th>\n",
       "      <td>69</td>\n",
       "      <td>竹山</td>\n",
       "      <td>南投縣</td>\n",
       "      <td>33</td>\n",
       "      <td>細懸浮微粒</td>\n",
       "      <td>PM2.5</td>\n",
       "      <td>μg/m3</td>\n",
       "      <td>2019/11/23 上午 11:00:00</td>\n",
       "      <td>20</td>\n",
       "    </tr>\n",
       "  </tbody>\n",
       "</table>\n",
       "<p>167 rows × 9 columns</p>\n",
       "</div>"
      ],
      "text/plain": [
       "    SiteId SiteName County  ... ItemUnit             MonitorDate Concentration\n",
       "0       69       竹山    南投縣  ...    μg/m3  2019/11/30 下午 02:00:00            52\n",
       "6       69       竹山    南投縣  ...    μg/m3  2019/11/30 下午 01:00:00            49\n",
       "12      69       竹山    南投縣  ...    μg/m3  2019/11/30 下午 12:00:00            34\n",
       "18      69       竹山    南投縣  ...    μg/m3  2019/11/30 上午 11:00:00            24\n",
       "24      69       竹山    南投縣  ...    μg/m3  2019/11/30 上午 10:00:00            15\n",
       "..     ...      ...    ...  ...      ...                     ...           ...\n",
       "972     69       竹山    南投縣  ...    μg/m3  2019/11/23 下午 03:00:00            37\n",
       "978     69       竹山    南投縣  ...    μg/m3  2019/11/23 下午 02:00:00            51\n",
       "984     69       竹山    南投縣  ...    μg/m3  2019/11/23 下午 01:00:00            32\n",
       "990     69       竹山    南投縣  ...    μg/m3  2019/11/23 下午 12:00:00            25\n",
       "996     69       竹山    南投縣  ...    μg/m3  2019/11/23 上午 11:00:00            20\n",
       "\n",
       "[167 rows x 9 columns]"
      ]
     },
     "execution_count": 26,
     "metadata": {
      "tags": []
     },
     "output_type": "execute_result"
    }
   ],
   "source": [
    "# --------------------------------------------\n",
    "# 只顯示欄位 ItemEngName 的值是 'PM2.5' 的資料\n",
    "df_pm25 = df[df.ItemEngName=='PM2.5']\n",
    "#print('PM2.5 資料筆數 =', df_pm25.count())\n",
    "df_pm25"
   ]
  },
  {
   "cell_type": "markdown",
   "metadata": {
    "colab_type": "text",
    "id": "k7oN_KxmJ5rU"
   },
   "source": [
    "### **下載資料，以便於檢視與研究**"
   ]
  },
  {
   "cell_type": "code",
   "execution_count": null,
   "metadata": {
    "colab": {},
    "colab_type": "code",
    "id": "5JEraMl_S1KX"
   },
   "outputs": [],
   "source": [
    "# --------------------------------------------\n",
    "# 下載資料，以便於檢視與研究\n",
    "from google.colab import files\n",
    "filename='pm25_all.csv'\n",
    "df_pm25.to_csv(filename,encoding='utf8')  #存檔至 pm25_all.csv 中\n",
    "files.download(filename)"
   ]
  },
  {
   "cell_type": "code",
   "execution_count": 28,
   "metadata": {
    "colab": {
     "base_uri": "https://localhost:8080/",
     "height": 424
    },
    "colab_type": "code",
    "executionInfo": {
     "elapsed": 13751,
     "status": "ok",
     "timestamp": 1575099057065,
     "user": {
      "displayName": "Robert Lee",
      "photoUrl": "https://lh3.googleusercontent.com/a-/AAuE7mBhOHUGxfirh_wOIfgHSEGD1GFjFxqB_8JRet3Y5g=s64",
      "userId": "17293573083270862240"
     },
     "user_tz": -480
    },
    "id": "E4EYLfv5Bgoa",
    "outputId": "184b7dab-9961-4271-9f67-5e25812e6d93"
   },
   "outputs": [
    {
     "data": {
      "text/html": [
       "<div>\n",
       "<style scoped>\n",
       "    .dataframe tbody tr th:only-of-type {\n",
       "        vertical-align: middle;\n",
       "    }\n",
       "\n",
       "    .dataframe tbody tr th {\n",
       "        vertical-align: top;\n",
       "    }\n",
       "\n",
       "    .dataframe thead th {\n",
       "        text-align: right;\n",
       "    }\n",
       "</style>\n",
       "<table border=\"1\" class=\"dataframe\">\n",
       "  <thead>\n",
       "    <tr style=\"text-align: right;\">\n",
       "      <th></th>\n",
       "      <th>ItemEngName</th>\n",
       "      <th>ItemUnit</th>\n",
       "      <th>MonitorDate</th>\n",
       "      <th>Concentration</th>\n",
       "    </tr>\n",
       "  </thead>\n",
       "  <tbody>\n",
       "    <tr>\n",
       "      <th>0</th>\n",
       "      <td>PM2.5</td>\n",
       "      <td>μg/m3</td>\n",
       "      <td>2019/11/30 下午 02:00:00</td>\n",
       "      <td>52</td>\n",
       "    </tr>\n",
       "    <tr>\n",
       "      <th>6</th>\n",
       "      <td>PM2.5</td>\n",
       "      <td>μg/m3</td>\n",
       "      <td>2019/11/30 下午 01:00:00</td>\n",
       "      <td>49</td>\n",
       "    </tr>\n",
       "    <tr>\n",
       "      <th>12</th>\n",
       "      <td>PM2.5</td>\n",
       "      <td>μg/m3</td>\n",
       "      <td>2019/11/30 下午 12:00:00</td>\n",
       "      <td>34</td>\n",
       "    </tr>\n",
       "    <tr>\n",
       "      <th>18</th>\n",
       "      <td>PM2.5</td>\n",
       "      <td>μg/m3</td>\n",
       "      <td>2019/11/30 上午 11:00:00</td>\n",
       "      <td>24</td>\n",
       "    </tr>\n",
       "    <tr>\n",
       "      <th>24</th>\n",
       "      <td>PM2.5</td>\n",
       "      <td>μg/m3</td>\n",
       "      <td>2019/11/30 上午 10:00:00</td>\n",
       "      <td>15</td>\n",
       "    </tr>\n",
       "    <tr>\n",
       "      <th>...</th>\n",
       "      <td>...</td>\n",
       "      <td>...</td>\n",
       "      <td>...</td>\n",
       "      <td>...</td>\n",
       "    </tr>\n",
       "    <tr>\n",
       "      <th>972</th>\n",
       "      <td>PM2.5</td>\n",
       "      <td>μg/m3</td>\n",
       "      <td>2019/11/23 下午 03:00:00</td>\n",
       "      <td>37</td>\n",
       "    </tr>\n",
       "    <tr>\n",
       "      <th>978</th>\n",
       "      <td>PM2.5</td>\n",
       "      <td>μg/m3</td>\n",
       "      <td>2019/11/23 下午 02:00:00</td>\n",
       "      <td>51</td>\n",
       "    </tr>\n",
       "    <tr>\n",
       "      <th>984</th>\n",
       "      <td>PM2.5</td>\n",
       "      <td>μg/m3</td>\n",
       "      <td>2019/11/23 下午 01:00:00</td>\n",
       "      <td>32</td>\n",
       "    </tr>\n",
       "    <tr>\n",
       "      <th>990</th>\n",
       "      <td>PM2.5</td>\n",
       "      <td>μg/m3</td>\n",
       "      <td>2019/11/23 下午 12:00:00</td>\n",
       "      <td>25</td>\n",
       "    </tr>\n",
       "    <tr>\n",
       "      <th>996</th>\n",
       "      <td>PM2.5</td>\n",
       "      <td>μg/m3</td>\n",
       "      <td>2019/11/23 上午 11:00:00</td>\n",
       "      <td>20</td>\n",
       "    </tr>\n",
       "  </tbody>\n",
       "</table>\n",
       "<p>167 rows × 4 columns</p>\n",
       "</div>"
      ],
      "text/plain": [
       "    ItemEngName ItemUnit             MonitorDate Concentration\n",
       "0         PM2.5    μg/m3  2019/11/30 下午 02:00:00            52\n",
       "6         PM2.5    μg/m3  2019/11/30 下午 01:00:00            49\n",
       "12        PM2.5    μg/m3  2019/11/30 下午 12:00:00            34\n",
       "18        PM2.5    μg/m3  2019/11/30 上午 11:00:00            24\n",
       "24        PM2.5    μg/m3  2019/11/30 上午 10:00:00            15\n",
       "..          ...      ...                     ...           ...\n",
       "972       PM2.5    μg/m3  2019/11/23 下午 03:00:00            37\n",
       "978       PM2.5    μg/m3  2019/11/23 下午 02:00:00            51\n",
       "984       PM2.5    μg/m3  2019/11/23 下午 01:00:00            32\n",
       "990       PM2.5    μg/m3  2019/11/23 下午 12:00:00            25\n",
       "996       PM2.5    μg/m3  2019/11/23 上午 11:00:00            20\n",
       "\n",
       "[167 rows x 4 columns]"
      ]
     },
     "execution_count": 28,
     "metadata": {
      "tags": []
     },
     "output_type": "execute_result"
    }
   ],
   "source": [
    "# --------------------------------------------\n",
    "# 資料篩選：只留下我們感興趣的欄位 PM2.5 \n",
    "df_pm25_filter=df_pm25.loc[:,'ItemEngName':]\n",
    "df_pm25_filter\n",
    "\n"
   ]
  },
  {
   "cell_type": "code",
   "execution_count": 29,
   "metadata": {
    "colab": {
     "base_uri": "https://localhost:8080/",
     "height": 424
    },
    "colab_type": "code",
    "executionInfo": {
     "elapsed": 13739,
     "status": "ok",
     "timestamp": 1575099057067,
     "user": {
      "displayName": "Robert Lee",
      "photoUrl": "https://lh3.googleusercontent.com/a-/AAuE7mBhOHUGxfirh_wOIfgHSEGD1GFjFxqB_8JRet3Y5g=s64",
      "userId": "17293573083270862240"
     },
     "user_tz": -480
    },
    "id": "E6yGYJr48VPu",
    "outputId": "831c78d2-7c9e-4aae-c076-b3889ce42032"
   },
   "outputs": [
    {
     "data": {
      "text/html": [
       "<div>\n",
       "<style scoped>\n",
       "    .dataframe tbody tr th:only-of-type {\n",
       "        vertical-align: middle;\n",
       "    }\n",
       "\n",
       "    .dataframe tbody tr th {\n",
       "        vertical-align: top;\n",
       "    }\n",
       "\n",
       "    .dataframe thead th {\n",
       "        text-align: right;\n",
       "    }\n",
       "</style>\n",
       "<table border=\"1\" class=\"dataframe\">\n",
       "  <thead>\n",
       "    <tr style=\"text-align: right;\">\n",
       "      <th></th>\n",
       "      <th>MonitorDate</th>\n",
       "      <th>Concentration</th>\n",
       "    </tr>\n",
       "  </thead>\n",
       "  <tbody>\n",
       "    <tr>\n",
       "      <th>0</th>\n",
       "      <td>2019/11/30 下午 02:00:00</td>\n",
       "      <td>52</td>\n",
       "    </tr>\n",
       "    <tr>\n",
       "      <th>6</th>\n",
       "      <td>2019/11/30 下午 01:00:00</td>\n",
       "      <td>49</td>\n",
       "    </tr>\n",
       "    <tr>\n",
       "      <th>12</th>\n",
       "      <td>2019/11/30 下午 12:00:00</td>\n",
       "      <td>34</td>\n",
       "    </tr>\n",
       "    <tr>\n",
       "      <th>18</th>\n",
       "      <td>2019/11/30 上午 11:00:00</td>\n",
       "      <td>24</td>\n",
       "    </tr>\n",
       "    <tr>\n",
       "      <th>24</th>\n",
       "      <td>2019/11/30 上午 10:00:00</td>\n",
       "      <td>15</td>\n",
       "    </tr>\n",
       "    <tr>\n",
       "      <th>...</th>\n",
       "      <td>...</td>\n",
       "      <td>...</td>\n",
       "    </tr>\n",
       "    <tr>\n",
       "      <th>972</th>\n",
       "      <td>2019/11/23 下午 03:00:00</td>\n",
       "      <td>37</td>\n",
       "    </tr>\n",
       "    <tr>\n",
       "      <th>978</th>\n",
       "      <td>2019/11/23 下午 02:00:00</td>\n",
       "      <td>51</td>\n",
       "    </tr>\n",
       "    <tr>\n",
       "      <th>984</th>\n",
       "      <td>2019/11/23 下午 01:00:00</td>\n",
       "      <td>32</td>\n",
       "    </tr>\n",
       "    <tr>\n",
       "      <th>990</th>\n",
       "      <td>2019/11/23 下午 12:00:00</td>\n",
       "      <td>25</td>\n",
       "    </tr>\n",
       "    <tr>\n",
       "      <th>996</th>\n",
       "      <td>2019/11/23 上午 11:00:00</td>\n",
       "      <td>20</td>\n",
       "    </tr>\n",
       "  </tbody>\n",
       "</table>\n",
       "<p>167 rows × 2 columns</p>\n",
       "</div>"
      ],
      "text/plain": [
       "                MonitorDate Concentration\n",
       "0    2019/11/30 下午 02:00:00            52\n",
       "6    2019/11/30 下午 01:00:00            49\n",
       "12   2019/11/30 下午 12:00:00            34\n",
       "18   2019/11/30 上午 11:00:00            24\n",
       "24   2019/11/30 上午 10:00:00            15\n",
       "..                      ...           ...\n",
       "972  2019/11/23 下午 03:00:00            37\n",
       "978  2019/11/23 下午 02:00:00            51\n",
       "984  2019/11/23 下午 01:00:00            32\n",
       "990  2019/11/23 下午 12:00:00            25\n",
       "996  2019/11/23 上午 11:00:00            20\n",
       "\n",
       "[167 rows x 2 columns]"
      ]
     },
     "execution_count": 29,
     "metadata": {
      "tags": []
     },
     "output_type": "execute_result"
    }
   ],
   "source": [
    "df_pm25_filter_plot=df_pm25_filter.loc[:,['MonitorDate','Concentration']]\n",
    "df_pm25_filter_plot"
   ]
  },
  {
   "cell_type": "code",
   "execution_count": 30,
   "metadata": {
    "colab": {
     "base_uri": "https://localhost:8080/",
     "height": 424
    },
    "colab_type": "code",
    "executionInfo": {
     "elapsed": 13730,
     "status": "ok",
     "timestamp": 1575099057069,
     "user": {
      "displayName": "Robert Lee",
      "photoUrl": "https://lh3.googleusercontent.com/a-/AAuE7mBhOHUGxfirh_wOIfgHSEGD1GFjFxqB_8JRet3Y5g=s64",
      "userId": "17293573083270862240"
     },
     "user_tz": -480
    },
    "id": "stTV52tF8ACk",
    "outputId": "3438a94a-fd46-4fd7-916f-68d055799113"
   },
   "outputs": [
    {
     "data": {
      "text/html": [
       "<div>\n",
       "<style scoped>\n",
       "    .dataframe tbody tr th:only-of-type {\n",
       "        vertical-align: middle;\n",
       "    }\n",
       "\n",
       "    .dataframe tbody tr th {\n",
       "        vertical-align: top;\n",
       "    }\n",
       "\n",
       "    .dataframe thead th {\n",
       "        text-align: right;\n",
       "    }\n",
       "</style>\n",
       "<table border=\"1\" class=\"dataframe\">\n",
       "  <thead>\n",
       "    <tr style=\"text-align: right;\">\n",
       "      <th></th>\n",
       "      <th>MonitorDate</th>\n",
       "    </tr>\n",
       "  </thead>\n",
       "  <tbody>\n",
       "    <tr>\n",
       "      <th>0</th>\n",
       "      <td>2019/11/30 下午 02:00:00</td>\n",
       "    </tr>\n",
       "    <tr>\n",
       "      <th>6</th>\n",
       "      <td>2019/11/30 下午 01:00:00</td>\n",
       "    </tr>\n",
       "    <tr>\n",
       "      <th>12</th>\n",
       "      <td>2019/11/30 下午 12:00:00</td>\n",
       "    </tr>\n",
       "    <tr>\n",
       "      <th>18</th>\n",
       "      <td>2019/11/30 上午 11:00:00</td>\n",
       "    </tr>\n",
       "    <tr>\n",
       "      <th>24</th>\n",
       "      <td>2019/11/30 上午 10:00:00</td>\n",
       "    </tr>\n",
       "    <tr>\n",
       "      <th>...</th>\n",
       "      <td>...</td>\n",
       "    </tr>\n",
       "    <tr>\n",
       "      <th>972</th>\n",
       "      <td>2019/11/23 下午 03:00:00</td>\n",
       "    </tr>\n",
       "    <tr>\n",
       "      <th>978</th>\n",
       "      <td>2019/11/23 下午 02:00:00</td>\n",
       "    </tr>\n",
       "    <tr>\n",
       "      <th>984</th>\n",
       "      <td>2019/11/23 下午 01:00:00</td>\n",
       "    </tr>\n",
       "    <tr>\n",
       "      <th>990</th>\n",
       "      <td>2019/11/23 下午 12:00:00</td>\n",
       "    </tr>\n",
       "    <tr>\n",
       "      <th>996</th>\n",
       "      <td>2019/11/23 上午 11:00:00</td>\n",
       "    </tr>\n",
       "  </tbody>\n",
       "</table>\n",
       "<p>167 rows × 1 columns</p>\n",
       "</div>"
      ],
      "text/plain": [
       "                MonitorDate\n",
       "0    2019/11/30 下午 02:00:00\n",
       "6    2019/11/30 下午 01:00:00\n",
       "12   2019/11/30 下午 12:00:00\n",
       "18   2019/11/30 上午 11:00:00\n",
       "24   2019/11/30 上午 10:00:00\n",
       "..                      ...\n",
       "972  2019/11/23 下午 03:00:00\n",
       "978  2019/11/23 下午 02:00:00\n",
       "984  2019/11/23 下午 01:00:00\n",
       "990  2019/11/23 下午 12:00:00\n",
       "996  2019/11/23 上午 11:00:00\n",
       "\n",
       "[167 rows x 1 columns]"
      ]
     },
     "execution_count": 30,
     "metadata": {
      "tags": []
     },
     "output_type": "execute_result"
    }
   ],
   "source": [
    "# --------------------------------------------\n",
    "# 資料篩選：時間欄位處理\n",
    "df_hour=df_pm25.iloc[:,7:8]\n",
    "df_hour"
   ]
  },
  {
   "cell_type": "code",
   "execution_count": 31,
   "metadata": {
    "colab": {
     "base_uri": "https://localhost:8080/",
     "height": 424
    },
    "colab_type": "code",
    "executionInfo": {
     "elapsed": 13722,
     "status": "ok",
     "timestamp": 1575099057071,
     "user": {
      "displayName": "Robert Lee",
      "photoUrl": "https://lh3.googleusercontent.com/a-/AAuE7mBhOHUGxfirh_wOIfgHSEGD1GFjFxqB_8JRet3Y5g=s64",
      "userId": "17293573083270862240"
     },
     "user_tz": -480
    },
    "id": "wnC1Kd8kDArW",
    "outputId": "92558665-16a4-4b17-a0f3-dc81bbd1b955"
   },
   "outputs": [
    {
     "data": {
      "text/html": [
       "<div>\n",
       "<style scoped>\n",
       "    .dataframe tbody tr th:only-of-type {\n",
       "        vertical-align: middle;\n",
       "    }\n",
       "\n",
       "    .dataframe tbody tr th {\n",
       "        vertical-align: top;\n",
       "    }\n",
       "\n",
       "    .dataframe thead th {\n",
       "        text-align: right;\n",
       "    }\n",
       "</style>\n",
       "<table border=\"1\" class=\"dataframe\">\n",
       "  <thead>\n",
       "    <tr style=\"text-align: right;\">\n",
       "      <th></th>\n",
       "      <th>MonitorDate</th>\n",
       "      <th>Concentration</th>\n",
       "    </tr>\n",
       "  </thead>\n",
       "  <tbody>\n",
       "    <tr>\n",
       "      <th>996</th>\n",
       "      <td>2019/11/23 上午 11:00:00</td>\n",
       "      <td>20</td>\n",
       "    </tr>\n",
       "    <tr>\n",
       "      <th>984</th>\n",
       "      <td>2019/11/23 下午 01:00:00</td>\n",
       "      <td>32</td>\n",
       "    </tr>\n",
       "    <tr>\n",
       "      <th>978</th>\n",
       "      <td>2019/11/23 下午 02:00:00</td>\n",
       "      <td>51</td>\n",
       "    </tr>\n",
       "    <tr>\n",
       "      <th>972</th>\n",
       "      <td>2019/11/23 下午 03:00:00</td>\n",
       "      <td>37</td>\n",
       "    </tr>\n",
       "    <tr>\n",
       "      <th>966</th>\n",
       "      <td>2019/11/23 下午 04:00:00</td>\n",
       "      <td>29</td>\n",
       "    </tr>\n",
       "    <tr>\n",
       "      <th>...</th>\n",
       "      <td>...</td>\n",
       "      <td>...</td>\n",
       "    </tr>\n",
       "    <tr>\n",
       "      <th>18</th>\n",
       "      <td>2019/11/30 上午 11:00:00</td>\n",
       "      <td>24</td>\n",
       "    </tr>\n",
       "    <tr>\n",
       "      <th>84</th>\n",
       "      <td>2019/11/30 上午 12:00:00</td>\n",
       "      <td>22</td>\n",
       "    </tr>\n",
       "    <tr>\n",
       "      <th>6</th>\n",
       "      <td>2019/11/30 下午 01:00:00</td>\n",
       "      <td>49</td>\n",
       "    </tr>\n",
       "    <tr>\n",
       "      <th>0</th>\n",
       "      <td>2019/11/30 下午 02:00:00</td>\n",
       "      <td>52</td>\n",
       "    </tr>\n",
       "    <tr>\n",
       "      <th>12</th>\n",
       "      <td>2019/11/30 下午 12:00:00</td>\n",
       "      <td>34</td>\n",
       "    </tr>\n",
       "  </tbody>\n",
       "</table>\n",
       "<p>167 rows × 2 columns</p>\n",
       "</div>"
      ],
      "text/plain": [
       "                MonitorDate Concentration\n",
       "996  2019/11/23 上午 11:00:00            20\n",
       "984  2019/11/23 下午 01:00:00            32\n",
       "978  2019/11/23 下午 02:00:00            51\n",
       "972  2019/11/23 下午 03:00:00            37\n",
       "966  2019/11/23 下午 04:00:00            29\n",
       "..                      ...           ...\n",
       "18   2019/11/30 上午 11:00:00            24\n",
       "84   2019/11/30 上午 12:00:00            22\n",
       "6    2019/11/30 下午 01:00:00            49\n",
       "0    2019/11/30 下午 02:00:00            52\n",
       "12   2019/11/30 下午 12:00:00            34\n",
       "\n",
       "[167 rows x 2 columns]"
      ]
     },
     "execution_count": 31,
     "metadata": {
      "tags": []
     },
     "output_type": "execute_result"
    }
   ],
   "source": [
    "# --------------------------------------------\n",
    "# 指定欄位進行排序\n",
    "#df_pm25.sort_index(ascending=True)\n",
    "df_pm25Sort=df_pm25_filter_plot.sort_values(by='MonitorDate').head(300)  \n",
    "df_pm25Sort"
   ]
  },
  {
   "cell_type": "markdown",
   "metadata": {
    "colab_type": "text",
    "id": "FZ6JyGz4LKIL"
   },
   "source": [
    "### **下載資料，以便於檢視與研究**"
   ]
  },
  {
   "cell_type": "code",
   "execution_count": null,
   "metadata": {
    "colab": {},
    "colab_type": "code",
    "id": "xq_hDS-5LPI-"
   },
   "outputs": [],
   "source": [
    "# --------------------------------------------\n",
    "# 下載資料，以便於檢視與研究\n",
    "#from google.colab import files\n",
    "filename='pm25_Sort.csv'\n",
    "df_pm25Sort.to_csv(filename,encoding='utf8')  #存檔至 pm25_Sort.csv 中\n",
    "files.download(filename)"
   ]
  },
  {
   "cell_type": "code",
   "execution_count": 33,
   "metadata": {
    "colab": {
     "base_uri": "https://localhost:8080/",
     "height": 424
    },
    "colab_type": "code",
    "executionInfo": {
     "elapsed": 15026,
     "status": "ok",
     "timestamp": 1575099058395,
     "user": {
      "displayName": "Robert Lee",
      "photoUrl": "https://lh3.googleusercontent.com/a-/AAuE7mBhOHUGxfirh_wOIfgHSEGD1GFjFxqB_8JRet3Y5g=s64",
      "userId": "17293573083270862240"
     },
     "user_tz": -480
    },
    "id": "5MRiAWgGvOmp",
    "outputId": "0bf6beec-1e30-4e8d-f9d6-debdc3a73799"
   },
   "outputs": [
    {
     "data": {
      "text/html": [
       "<div>\n",
       "<style scoped>\n",
       "    .dataframe tbody tr th:only-of-type {\n",
       "        vertical-align: middle;\n",
       "    }\n",
       "\n",
       "    .dataframe tbody tr th {\n",
       "        vertical-align: top;\n",
       "    }\n",
       "\n",
       "    .dataframe thead th {\n",
       "        text-align: right;\n",
       "    }\n",
       "</style>\n",
       "<table border=\"1\" class=\"dataframe\">\n",
       "  <thead>\n",
       "    <tr style=\"text-align: right;\">\n",
       "      <th></th>\n",
       "      <th>MonitorDate</th>\n",
       "      <th>Concentration</th>\n",
       "    </tr>\n",
       "  </thead>\n",
       "  <tbody>\n",
       "    <tr>\n",
       "      <th>996</th>\n",
       "      <td>2019/11/23 上午 11:00:00</td>\n",
       "      <td>20</td>\n",
       "    </tr>\n",
       "    <tr>\n",
       "      <th>984</th>\n",
       "      <td>2019/11/23 下午 01:00:00</td>\n",
       "      <td>32</td>\n",
       "    </tr>\n",
       "    <tr>\n",
       "      <th>978</th>\n",
       "      <td>2019/11/23 下午 02:00:00</td>\n",
       "      <td>51</td>\n",
       "    </tr>\n",
       "    <tr>\n",
       "      <th>972</th>\n",
       "      <td>2019/11/23 下午 03:00:00</td>\n",
       "      <td>37</td>\n",
       "    </tr>\n",
       "    <tr>\n",
       "      <th>966</th>\n",
       "      <td>2019/11/23 下午 04:00:00</td>\n",
       "      <td>29</td>\n",
       "    </tr>\n",
       "    <tr>\n",
       "      <th>...</th>\n",
       "      <td>...</td>\n",
       "      <td>...</td>\n",
       "    </tr>\n",
       "    <tr>\n",
       "      <th>18</th>\n",
       "      <td>2019/11/30 上午 11:00:00</td>\n",
       "      <td>24</td>\n",
       "    </tr>\n",
       "    <tr>\n",
       "      <th>84</th>\n",
       "      <td>2019/11/30 上午 12:00:00</td>\n",
       "      <td>22</td>\n",
       "    </tr>\n",
       "    <tr>\n",
       "      <th>6</th>\n",
       "      <td>2019/11/30 下午 01:00:00</td>\n",
       "      <td>49</td>\n",
       "    </tr>\n",
       "    <tr>\n",
       "      <th>0</th>\n",
       "      <td>2019/11/30 下午 02:00:00</td>\n",
       "      <td>52</td>\n",
       "    </tr>\n",
       "    <tr>\n",
       "      <th>12</th>\n",
       "      <td>2019/11/30 下午 12:00:00</td>\n",
       "      <td>34</td>\n",
       "    </tr>\n",
       "  </tbody>\n",
       "</table>\n",
       "<p>167 rows × 2 columns</p>\n",
       "</div>"
      ],
      "text/plain": [
       "                MonitorDate Concentration\n",
       "996  2019/11/23 上午 11:00:00            20\n",
       "984  2019/11/23 下午 01:00:00            32\n",
       "978  2019/11/23 下午 02:00:00            51\n",
       "972  2019/11/23 下午 03:00:00            37\n",
       "966  2019/11/23 下午 04:00:00            29\n",
       "..                      ...           ...\n",
       "18   2019/11/30 上午 11:00:00            24\n",
       "84   2019/11/30 上午 12:00:00            22\n",
       "6    2019/11/30 下午 01:00:00            49\n",
       "0    2019/11/30 下午 02:00:00            52\n",
       "12   2019/11/30 下午 12:00:00            34\n",
       "\n",
       "[167 rows x 2 columns]"
      ]
     },
     "execution_count": 33,
     "metadata": {
      "tags": []
     },
     "output_type": "execute_result"
    }
   ],
   "source": [
    "# --------------------------------------------\n",
    "# 使用 matplotlib 套件來繪 PM 2.5 的圖\n",
    "df_pm25Sort"
   ]
  },
  {
   "cell_type": "code",
   "execution_count": 43,
   "metadata": {
    "colab": {
     "base_uri": "https://localhost:8080/",
     "height": 802
    },
    "colab_type": "code",
    "executionInfo": {
     "elapsed": 831,
     "status": "ok",
     "timestamp": 1575099188687,
     "user": {
      "displayName": "Robert Lee",
      "photoUrl": "https://lh3.googleusercontent.com/a-/AAuE7mBhOHUGxfirh_wOIfgHSEGD1GFjFxqB_8JRet3Y5g=s64",
      "userId": "17293573083270862240"
     },
     "user_tz": -480
    },
    "id": "-tIcK7pntM0Q",
    "outputId": "4def334e-693c-471d-ce8c-cb44a49e3d8f"
   },
   "outputs": [
    {
     "data": {
      "text/html": [
       "<div>\n",
       "<style scoped>\n",
       "    .dataframe tbody tr th:only-of-type {\n",
       "        vertical-align: middle;\n",
       "    }\n",
       "\n",
       "    .dataframe tbody tr th {\n",
       "        vertical-align: top;\n",
       "    }\n",
       "\n",
       "    .dataframe thead th {\n",
       "        text-align: right;\n",
       "    }\n",
       "</style>\n",
       "<table border=\"1\" class=\"dataframe\">\n",
       "  <thead>\n",
       "    <tr style=\"text-align: right;\">\n",
       "      <th></th>\n",
       "      <th>MonitorDate</th>\n",
       "      <th>Concentration</th>\n",
       "    </tr>\n",
       "  </thead>\n",
       "  <tbody>\n",
       "    <tr>\n",
       "      <th>768</th>\n",
       "      <td>2019/11/25 上午 01:00:00</td>\n",
       "      <td>38</td>\n",
       "    </tr>\n",
       "    <tr>\n",
       "      <th>762</th>\n",
       "      <td>2019/11/25 上午 02:00:00</td>\n",
       "      <td>37</td>\n",
       "    </tr>\n",
       "    <tr>\n",
       "      <th>756</th>\n",
       "      <td>2019/11/25 上午 03:00:00</td>\n",
       "      <td>26</td>\n",
       "    </tr>\n",
       "    <tr>\n",
       "      <th>750</th>\n",
       "      <td>2019/11/25 上午 04:00:00</td>\n",
       "      <td>34</td>\n",
       "    </tr>\n",
       "    <tr>\n",
       "      <th>744</th>\n",
       "      <td>2019/11/25 上午 05:00:00</td>\n",
       "      <td>30</td>\n",
       "    </tr>\n",
       "    <tr>\n",
       "      <th>738</th>\n",
       "      <td>2019/11/25 上午 06:00:00</td>\n",
       "      <td>31</td>\n",
       "    </tr>\n",
       "    <tr>\n",
       "      <th>732</th>\n",
       "      <td>2019/11/25 上午 07:00:00</td>\n",
       "      <td>23</td>\n",
       "    </tr>\n",
       "    <tr>\n",
       "      <th>726</th>\n",
       "      <td>2019/11/25 上午 08:00:00</td>\n",
       "      <td>25</td>\n",
       "    </tr>\n",
       "    <tr>\n",
       "      <th>720</th>\n",
       "      <td>2019/11/25 上午 09:00:00</td>\n",
       "      <td>29</td>\n",
       "    </tr>\n",
       "    <tr>\n",
       "      <th>714</th>\n",
       "      <td>2019/11/25 上午 10:00:00</td>\n",
       "      <td>29</td>\n",
       "    </tr>\n",
       "    <tr>\n",
       "      <th>708</th>\n",
       "      <td>2019/11/25 上午 11:00:00</td>\n",
       "      <td>24</td>\n",
       "    </tr>\n",
       "    <tr>\n",
       "      <th>774</th>\n",
       "      <td>2019/11/25 上午 12:00:00</td>\n",
       "      <td>43</td>\n",
       "    </tr>\n",
       "    <tr>\n",
       "      <th>696</th>\n",
       "      <td>2019/11/25 下午 01:00:00</td>\n",
       "      <td>40</td>\n",
       "    </tr>\n",
       "    <tr>\n",
       "      <th>690</th>\n",
       "      <td>2019/11/25 下午 02:00:00</td>\n",
       "      <td>45</td>\n",
       "    </tr>\n",
       "    <tr>\n",
       "      <th>684</th>\n",
       "      <td>2019/11/25 下午 03:00:00</td>\n",
       "      <td>32</td>\n",
       "    </tr>\n",
       "    <tr>\n",
       "      <th>678</th>\n",
       "      <td>2019/11/25 下午 04:00:00</td>\n",
       "      <td>41</td>\n",
       "    </tr>\n",
       "    <tr>\n",
       "      <th>672</th>\n",
       "      <td>2019/11/25 下午 05:00:00</td>\n",
       "      <td>32</td>\n",
       "    </tr>\n",
       "    <tr>\n",
       "      <th>666</th>\n",
       "      <td>2019/11/25 下午 06:00:00</td>\n",
       "      <td>33</td>\n",
       "    </tr>\n",
       "    <tr>\n",
       "      <th>660</th>\n",
       "      <td>2019/11/25 下午 07:00:00</td>\n",
       "      <td>28</td>\n",
       "    </tr>\n",
       "    <tr>\n",
       "      <th>654</th>\n",
       "      <td>2019/11/25 下午 08:00:00</td>\n",
       "      <td>15</td>\n",
       "    </tr>\n",
       "    <tr>\n",
       "      <th>648</th>\n",
       "      <td>2019/11/25 下午 09:00:00</td>\n",
       "      <td>16</td>\n",
       "    </tr>\n",
       "    <tr>\n",
       "      <th>642</th>\n",
       "      <td>2019/11/25 下午 10:00:00</td>\n",
       "      <td>15</td>\n",
       "    </tr>\n",
       "    <tr>\n",
       "      <th>636</th>\n",
       "      <td>2019/11/25 下午 11:00:00</td>\n",
       "      <td>17</td>\n",
       "    </tr>\n",
       "    <tr>\n",
       "      <th>702</th>\n",
       "      <td>2019/11/25 下午 12:00:00</td>\n",
       "      <td>29</td>\n",
       "    </tr>\n",
       "  </tbody>\n",
       "</table>\n",
       "</div>"
      ],
      "text/plain": [
       "                MonitorDate Concentration\n",
       "768  2019/11/25 上午 01:00:00            38\n",
       "762  2019/11/25 上午 02:00:00            37\n",
       "756  2019/11/25 上午 03:00:00            26\n",
       "750  2019/11/25 上午 04:00:00            34\n",
       "744  2019/11/25 上午 05:00:00            30\n",
       "738  2019/11/25 上午 06:00:00            31\n",
       "732  2019/11/25 上午 07:00:00            23\n",
       "726  2019/11/25 上午 08:00:00            25\n",
       "720  2019/11/25 上午 09:00:00            29\n",
       "714  2019/11/25 上午 10:00:00            29\n",
       "708  2019/11/25 上午 11:00:00            24\n",
       "774  2019/11/25 上午 12:00:00            43\n",
       "696  2019/11/25 下午 01:00:00            40\n",
       "690  2019/11/25 下午 02:00:00            45\n",
       "684  2019/11/25 下午 03:00:00            32\n",
       "678  2019/11/25 下午 04:00:00            41\n",
       "672  2019/11/25 下午 05:00:00            32\n",
       "666  2019/11/25 下午 06:00:00            33\n",
       "660  2019/11/25 下午 07:00:00            28\n",
       "654  2019/11/25 下午 08:00:00            15\n",
       "648  2019/11/25 下午 09:00:00            16\n",
       "642  2019/11/25 下午 10:00:00            15\n",
       "636  2019/11/25 下午 11:00:00            17\n",
       "702  2019/11/25 下午 12:00:00            29"
      ]
     },
     "execution_count": 43,
     "metadata": {
      "tags": []
     },
     "output_type": "execute_result"
    }
   ],
   "source": [
    "# --------------------------------------------\n",
    "# 只選一天的資料(注意：避免使用第一天或是最後一天的資料，因這兩天的資料可能不齊全！)\n",
    "date_selected = \"2019/11/25\" \n",
    "df_oneday=df_pm25Sort[df_pm25Sort['MonitorDate'].str.contains(date_selected, na=False)]\n",
    "df_oneday\n",
    "#len(df_oneday)\n"
   ]
  },
  {
   "cell_type": "code",
   "execution_count": 44,
   "metadata": {
    "colab": {
     "base_uri": "https://localhost:8080/",
     "height": 802
    },
    "colab_type": "code",
    "executionInfo": {
     "elapsed": 814,
     "status": "ok",
     "timestamp": 1575099188694,
     "user": {
      "displayName": "Robert Lee",
      "photoUrl": "https://lh3.googleusercontent.com/a-/AAuE7mBhOHUGxfirh_wOIfgHSEGD1GFjFxqB_8JRet3Y5g=s64",
      "userId": "17293573083270862240"
     },
     "user_tz": -480
    },
    "id": "l87ptb_r9bGQ",
    "outputId": "49bfda93-e095-43f0-b7ee-e332512641e2"
   },
   "outputs": [
    {
     "data": {
      "text/html": [
       "<div>\n",
       "<style scoped>\n",
       "    .dataframe tbody tr th:only-of-type {\n",
       "        vertical-align: middle;\n",
       "    }\n",
       "\n",
       "    .dataframe tbody tr th {\n",
       "        vertical-align: top;\n",
       "    }\n",
       "\n",
       "    .dataframe thead th {\n",
       "        text-align: right;\n",
       "    }\n",
       "</style>\n",
       "<table border=\"1\" class=\"dataframe\">\n",
       "  <thead>\n",
       "    <tr style=\"text-align: right;\">\n",
       "      <th></th>\n",
       "      <th>MonitorDate</th>\n",
       "    </tr>\n",
       "  </thead>\n",
       "  <tbody>\n",
       "    <tr>\n",
       "      <th>768</th>\n",
       "      <td>2019/11/25 上午 01:00:00</td>\n",
       "    </tr>\n",
       "    <tr>\n",
       "      <th>762</th>\n",
       "      <td>2019/11/25 上午 02:00:00</td>\n",
       "    </tr>\n",
       "    <tr>\n",
       "      <th>756</th>\n",
       "      <td>2019/11/25 上午 03:00:00</td>\n",
       "    </tr>\n",
       "    <tr>\n",
       "      <th>750</th>\n",
       "      <td>2019/11/25 上午 04:00:00</td>\n",
       "    </tr>\n",
       "    <tr>\n",
       "      <th>744</th>\n",
       "      <td>2019/11/25 上午 05:00:00</td>\n",
       "    </tr>\n",
       "    <tr>\n",
       "      <th>738</th>\n",
       "      <td>2019/11/25 上午 06:00:00</td>\n",
       "    </tr>\n",
       "    <tr>\n",
       "      <th>732</th>\n",
       "      <td>2019/11/25 上午 07:00:00</td>\n",
       "    </tr>\n",
       "    <tr>\n",
       "      <th>726</th>\n",
       "      <td>2019/11/25 上午 08:00:00</td>\n",
       "    </tr>\n",
       "    <tr>\n",
       "      <th>720</th>\n",
       "      <td>2019/11/25 上午 09:00:00</td>\n",
       "    </tr>\n",
       "    <tr>\n",
       "      <th>714</th>\n",
       "      <td>2019/11/25 上午 10:00:00</td>\n",
       "    </tr>\n",
       "    <tr>\n",
       "      <th>708</th>\n",
       "      <td>2019/11/25 上午 11:00:00</td>\n",
       "    </tr>\n",
       "    <tr>\n",
       "      <th>774</th>\n",
       "      <td>2019/11/25 上午 12:00:00</td>\n",
       "    </tr>\n",
       "    <tr>\n",
       "      <th>696</th>\n",
       "      <td>2019/11/25 下午 01:00:00</td>\n",
       "    </tr>\n",
       "    <tr>\n",
       "      <th>690</th>\n",
       "      <td>2019/11/25 下午 02:00:00</td>\n",
       "    </tr>\n",
       "    <tr>\n",
       "      <th>684</th>\n",
       "      <td>2019/11/25 下午 03:00:00</td>\n",
       "    </tr>\n",
       "    <tr>\n",
       "      <th>678</th>\n",
       "      <td>2019/11/25 下午 04:00:00</td>\n",
       "    </tr>\n",
       "    <tr>\n",
       "      <th>672</th>\n",
       "      <td>2019/11/25 下午 05:00:00</td>\n",
       "    </tr>\n",
       "    <tr>\n",
       "      <th>666</th>\n",
       "      <td>2019/11/25 下午 06:00:00</td>\n",
       "    </tr>\n",
       "    <tr>\n",
       "      <th>660</th>\n",
       "      <td>2019/11/25 下午 07:00:00</td>\n",
       "    </tr>\n",
       "    <tr>\n",
       "      <th>654</th>\n",
       "      <td>2019/11/25 下午 08:00:00</td>\n",
       "    </tr>\n",
       "    <tr>\n",
       "      <th>648</th>\n",
       "      <td>2019/11/25 下午 09:00:00</td>\n",
       "    </tr>\n",
       "    <tr>\n",
       "      <th>642</th>\n",
       "      <td>2019/11/25 下午 10:00:00</td>\n",
       "    </tr>\n",
       "    <tr>\n",
       "      <th>636</th>\n",
       "      <td>2019/11/25 下午 11:00:00</td>\n",
       "    </tr>\n",
       "    <tr>\n",
       "      <th>702</th>\n",
       "      <td>2019/11/25 下午 12:00:00</td>\n",
       "    </tr>\n",
       "  </tbody>\n",
       "</table>\n",
       "</div>"
      ],
      "text/plain": [
       "                MonitorDate\n",
       "768  2019/11/25 上午 01:00:00\n",
       "762  2019/11/25 上午 02:00:00\n",
       "756  2019/11/25 上午 03:00:00\n",
       "750  2019/11/25 上午 04:00:00\n",
       "744  2019/11/25 上午 05:00:00\n",
       "738  2019/11/25 上午 06:00:00\n",
       "732  2019/11/25 上午 07:00:00\n",
       "726  2019/11/25 上午 08:00:00\n",
       "720  2019/11/25 上午 09:00:00\n",
       "714  2019/11/25 上午 10:00:00\n",
       "708  2019/11/25 上午 11:00:00\n",
       "774  2019/11/25 上午 12:00:00\n",
       "696  2019/11/25 下午 01:00:00\n",
       "690  2019/11/25 下午 02:00:00\n",
       "684  2019/11/25 下午 03:00:00\n",
       "678  2019/11/25 下午 04:00:00\n",
       "672  2019/11/25 下午 05:00:00\n",
       "666  2019/11/25 下午 06:00:00\n",
       "660  2019/11/25 下午 07:00:00\n",
       "654  2019/11/25 下午 08:00:00\n",
       "648  2019/11/25 下午 09:00:00\n",
       "642  2019/11/25 下午 10:00:00\n",
       "636  2019/11/25 下午 11:00:00\n",
       "702  2019/11/25 下午 12:00:00"
      ]
     },
     "execution_count": 44,
     "metadata": {
      "tags": []
     },
     "output_type": "execute_result"
    }
   ],
   "source": [
    "# --------------------------------------------\n",
    "# 選取 MonitorDate \n",
    "df_hour=df_oneday.iloc[:,:1]\n",
    "df_hour"
   ]
  },
  {
   "cell_type": "code",
   "execution_count": 45,
   "metadata": {
    "colab": {
     "base_uri": "https://localhost:8080/",
     "height": 931
    },
    "colab_type": "code",
    "executionInfo": {
     "elapsed": 797,
     "status": "ok",
     "timestamp": 1575099188697,
     "user": {
      "displayName": "Robert Lee",
      "photoUrl": "https://lh3.googleusercontent.com/a-/AAuE7mBhOHUGxfirh_wOIfgHSEGD1GFjFxqB_8JRet3Y5g=s64",
      "userId": "17293573083270862240"
     },
     "user_tz": -480
    },
    "id": "t4IQRCahCLJl",
    "outputId": "51fc1fc4-068b-416a-af60-bf9498258bc5"
   },
   "outputs": [
    {
     "name": "stderr",
     "output_type": "stream",
     "text": [
      "/usr/local/lib/python3.6/dist-packages/pandas/core/generic.py:5208: SettingWithCopyWarning: \n",
      "A value is trying to be set on a copy of a slice from a DataFrame.\n",
      "Try using .loc[row_indexer,col_indexer] = value instead\n",
      "\n",
      "See the caveats in the documentation: http://pandas.pydata.org/pandas-docs/stable/user_guide/indexing.html#returning-a-view-versus-a-copy\n",
      "  self[name] = value\n"
     ]
    },
    {
     "data": {
      "text/html": [
       "<div>\n",
       "<style scoped>\n",
       "    .dataframe tbody tr th:only-of-type {\n",
       "        vertical-align: middle;\n",
       "    }\n",
       "\n",
       "    .dataframe tbody tr th {\n",
       "        vertical-align: top;\n",
       "    }\n",
       "\n",
       "    .dataframe thead th {\n",
       "        text-align: right;\n",
       "    }\n",
       "</style>\n",
       "<table border=\"1\" class=\"dataframe\">\n",
       "  <thead>\n",
       "    <tr style=\"text-align: right;\">\n",
       "      <th></th>\n",
       "      <th>MonitorDate</th>\n",
       "    </tr>\n",
       "  </thead>\n",
       "  <tbody>\n",
       "    <tr>\n",
       "      <th>768</th>\n",
       "      <td>01</td>\n",
       "    </tr>\n",
       "    <tr>\n",
       "      <th>762</th>\n",
       "      <td>02</td>\n",
       "    </tr>\n",
       "    <tr>\n",
       "      <th>756</th>\n",
       "      <td>03</td>\n",
       "    </tr>\n",
       "    <tr>\n",
       "      <th>750</th>\n",
       "      <td>04</td>\n",
       "    </tr>\n",
       "    <tr>\n",
       "      <th>744</th>\n",
       "      <td>05</td>\n",
       "    </tr>\n",
       "    <tr>\n",
       "      <th>738</th>\n",
       "      <td>06</td>\n",
       "    </tr>\n",
       "    <tr>\n",
       "      <th>732</th>\n",
       "      <td>07</td>\n",
       "    </tr>\n",
       "    <tr>\n",
       "      <th>726</th>\n",
       "      <td>08</td>\n",
       "    </tr>\n",
       "    <tr>\n",
       "      <th>720</th>\n",
       "      <td>09</td>\n",
       "    </tr>\n",
       "    <tr>\n",
       "      <th>714</th>\n",
       "      <td>10</td>\n",
       "    </tr>\n",
       "    <tr>\n",
       "      <th>708</th>\n",
       "      <td>11</td>\n",
       "    </tr>\n",
       "    <tr>\n",
       "      <th>774</th>\n",
       "      <td>12</td>\n",
       "    </tr>\n",
       "    <tr>\n",
       "      <th>696</th>\n",
       "      <td>13</td>\n",
       "    </tr>\n",
       "    <tr>\n",
       "      <th>690</th>\n",
       "      <td>14</td>\n",
       "    </tr>\n",
       "    <tr>\n",
       "      <th>684</th>\n",
       "      <td>15</td>\n",
       "    </tr>\n",
       "    <tr>\n",
       "      <th>678</th>\n",
       "      <td>16</td>\n",
       "    </tr>\n",
       "    <tr>\n",
       "      <th>672</th>\n",
       "      <td>17</td>\n",
       "    </tr>\n",
       "    <tr>\n",
       "      <th>666</th>\n",
       "      <td>18</td>\n",
       "    </tr>\n",
       "    <tr>\n",
       "      <th>660</th>\n",
       "      <td>19</td>\n",
       "    </tr>\n",
       "    <tr>\n",
       "      <th>654</th>\n",
       "      <td>20</td>\n",
       "    </tr>\n",
       "    <tr>\n",
       "      <th>648</th>\n",
       "      <td>21</td>\n",
       "    </tr>\n",
       "    <tr>\n",
       "      <th>642</th>\n",
       "      <td>22</td>\n",
       "    </tr>\n",
       "    <tr>\n",
       "      <th>636</th>\n",
       "      <td>23</td>\n",
       "    </tr>\n",
       "    <tr>\n",
       "      <th>702</th>\n",
       "      <td>24</td>\n",
       "    </tr>\n",
       "  </tbody>\n",
       "</table>\n",
       "</div>"
      ],
      "text/plain": [
       "    MonitorDate\n",
       "768          01\n",
       "762          02\n",
       "756          03\n",
       "750          04\n",
       "744          05\n",
       "738          06\n",
       "732          07\n",
       "726          08\n",
       "720          09\n",
       "714          10\n",
       "708          11\n",
       "774          12\n",
       "696          13\n",
       "690          14\n",
       "684          15\n",
       "678          16\n",
       "672          17\n",
       "666          18\n",
       "660          19\n",
       "654          20\n",
       "648          21\n",
       "642          22\n",
       "636          23\n",
       "702          24"
      ]
     },
     "execution_count": 45,
     "metadata": {
      "tags": []
     },
     "output_type": "execute_result"
    }
   ],
   "source": [
    "# --------------------------------------------\n",
    "# 對 MonitorDate 資料做處理：轉換成 hour 字串\n",
    "# df['PM2.5']=df['PM2.5'].str.replace(\"原有字串\",\"欲改變成的字串\")\n",
    "mmss_str = \":00:00\"\n",
    "hh_str = '00'\n",
    "\n",
    "#print(date_selected)\n",
    "df_hour.MonitorDate = df_hour.MonitorDate.str.replace(date_selected+\" 上午 01:00:00\", \"01\")\n",
    "df_hour.MonitorDate = df_hour.MonitorDate.str.replace(date_selected+\" 上午 02:00:00\", \"02\")\n",
    "df_hour.MonitorDate = df_hour.MonitorDate.str.replace(date_selected+\" 上午 03:00:00\", \"03\")\n",
    "df_hour.MonitorDate = df_hour.MonitorDate.str.replace(date_selected+\" 上午 04:00:00\", \"04\")\n",
    "df_hour.MonitorDate = df_hour.MonitorDate.str.replace(date_selected+\" 上午 05:00:00\", \"05\")\n",
    "df_hour.MonitorDate = df_hour.MonitorDate.str.replace(date_selected+\" 上午 06:00:00\", \"06\")\n",
    "df_hour.MonitorDate = df_hour.MonitorDate.str.replace(date_selected+\" 上午 07:00:00\", \"07\")\n",
    "df_hour.MonitorDate = df_hour.MonitorDate.str.replace(date_selected+\" 上午 08:00:00\", \"08\")\n",
    "df_hour.MonitorDate = df_hour.MonitorDate.str.replace(date_selected+\" 上午 09:00:00\", \"09\")\n",
    "df_hour.MonitorDate = df_hour.MonitorDate.str.replace(date_selected+\" 上午 10:00:00\", \"10\")\n",
    "df_hour.MonitorDate = df_hour.MonitorDate.str.replace(date_selected+\" 上午 11:00:00\", \"11\")\n",
    "df_hour.MonitorDate = df_hour.MonitorDate.str.replace(date_selected+\" 上午 12:00:00\", \"12\")\n",
    "df_hour.MonitorDate = df_hour.MonitorDate.str.replace(date_selected+\" 下午 01:00:00\", \"13\")\n",
    "df_hour.MonitorDate = df_hour.MonitorDate.str.replace(date_selected+\" 下午 02:00:00\", \"14\")\n",
    "df_hour.MonitorDate = df_hour.MonitorDate.str.replace(date_selected+\" 下午 03:00:00\", \"15\")\n",
    "df_hour.MonitorDate = df_hour.MonitorDate.str.replace(date_selected+\" 下午 04:00:00\", \"16\")\n",
    "df_hour.MonitorDate = df_hour.MonitorDate.str.replace(date_selected+\" 下午 05:00:00\", \"17\")\n",
    "df_hour.MonitorDate = df_hour.MonitorDate.str.replace(date_selected+\" 下午 06:00:00\", \"18\")\n",
    "df_hour.MonitorDate = df_hour.MonitorDate.str.replace(date_selected+\" 下午 07:00:00\", \"19\")\n",
    "df_hour.MonitorDate = df_hour.MonitorDate.str.replace(date_selected+\" 下午 08:00:00\", \"20\")\n",
    "df_hour.MonitorDate = df_hour.MonitorDate.str.replace(date_selected+\" 下午 09:00:00\", \"21\")\n",
    "df_hour.MonitorDate = df_hour.MonitorDate.str.replace(date_selected+\" 下午 10:00:00\", \"22\")\n",
    "df_hour.MonitorDate = df_hour.MonitorDate.str.replace(date_selected+\" 下午 11:00:00\", \"23\")\n",
    "df_hour.MonitorDate = df_hour.MonitorDate.str.replace(date_selected+\" 下午 12:00:00\", \"24\")\n",
    "\n",
    "df_hour"
   ]
  },
  {
   "cell_type": "code",
   "execution_count": 46,
   "metadata": {
    "colab": {
     "base_uri": "https://localhost:8080/",
     "height": 219
    },
    "colab_type": "code",
    "executionInfo": {
     "elapsed": 1027,
     "status": "ok",
     "timestamp": 1575099188941,
     "user": {
      "displayName": "Robert Lee",
      "photoUrl": "https://lh3.googleusercontent.com/a-/AAuE7mBhOHUGxfirh_wOIfgHSEGD1GFjFxqB_8JRet3Y5g=s64",
      "userId": "17293573083270862240"
     },
     "user_tz": -480
    },
    "id": "U8-roAYq97-G",
    "outputId": "46ccd19b-ec5b-4578-b26f-841b4a1ba5ba"
   },
   "outputs": [
    {
     "name": "stderr",
     "output_type": "stream",
     "text": [
      "/usr/local/lib/python3.6/dist-packages/ipykernel_launcher.py:14: SettingWithCopyWarning: \n",
      "A value is trying to be set on a copy of a slice from a DataFrame.\n",
      "Try using .loc[row_indexer,col_indexer] = value instead\n",
      "\n",
      "See the caveats in the documentation: http://pandas.pydata.org/pandas-docs/stable/user_guide/indexing.html#returning-a-view-versus-a-copy\n",
      "  \n"
     ]
    },
    {
     "data": {
      "text/plain": [
       "MonitorDate      object\n",
       "Concentration    object\n",
       "MonitorHr        object\n",
       "dtype: object"
      ]
     },
     "execution_count": 46,
     "metadata": {
      "tags": []
     },
     "output_type": "execute_result"
    }
   ],
   "source": [
    "# --------------------------------------------\n",
    "# 對 MonitorDate 資料做處理：轉換成 datetime 型態\n",
    "#df['PM2.5']=df['PM2.5'].str.replace(\"原有字串\",\"欲改變成的字串\")\n",
    "mmss_str = \":00:00\"\n",
    "hh_str = 0\n",
    "\n",
    "'''\n",
    "df_hour.MonitorDate = df_hour.MonitorDate.str.replace(\" 上午 \", \" AM \")\n",
    "df_hour.MonitorDate = df_hour.MonitorDate.str.replace(\" 下午 \", \" PM \")\n",
    "#df_hour\n",
    "\n",
    "#pd.to_datetime(df_hour.MonitorDate, format='%Y/%m/%d %p %I:%M:%S')\n",
    "df_hour.MonitorDate = pd.to_datetime(df_hour.MonitorDate, format='%Y/%m/%d %p %H:%M:%S')\n",
    "#df_hour\n",
    "'''\n",
    "\n",
    "df_oneday['MonitorHr'] = df_hour['MonitorDate'].copy()\n",
    "#df_oneday.MonitorDate.describe()\n",
    "df_oneday\n",
    "df_oneday.dtypes\n",
    "\n",
    "#df_hr\n",
    "#pd.merge(df_oneday, df_pm25Sort)"
   ]
  },
  {
   "cell_type": "markdown",
   "metadata": {
    "colab_type": "text",
    "id": "3ChOIV5UFkHh"
   },
   "source": [
    "## 2. 實作：資料視覺化\n"
   ]
  },
  {
   "cell_type": "code",
   "execution_count": 50,
   "metadata": {
    "colab": {
     "base_uri": "https://localhost:8080/",
     "height": 315
    },
    "colab_type": "code",
    "executionInfo": {
     "elapsed": 1226,
     "status": "ok",
     "timestamp": 1575099232240,
     "user": {
      "displayName": "Robert Lee",
      "photoUrl": "https://lh3.googleusercontent.com/a-/AAuE7mBhOHUGxfirh_wOIfgHSEGD1GFjFxqB_8JRet3Y5g=s64",
      "userId": "17293573083270862240"
     },
     "user_tz": -480
    },
    "id": "Tchns7uaChHP",
    "outputId": "21796a26-4f45-4101-bb90-ba88bc67e85e"
   },
   "outputs": [
    {
     "data": {
      "image/png": "[encoded data removed]",
      "text/plain": [
       "<Figure size 432x288 with 1 Axes>"
      ]
     },
     "metadata": {
      "tags": []
     },
     "output_type": "display_data"
    }
   ],
   "source": [
    "# --------------------------------------------\n",
    "# 可以開始來繪圖\n",
    "'''\n",
    "dataset.plot(x='PM25', y='CO', style='o')  \n",
    "plt.title('PM25 vs CO')  \n",
    "plt.xlabel('PM25')  \n",
    "plt.ylabel('CO')  \n",
    "plt.show()\n",
    "'''\n",
    "df_oneday=df_oneday.astype(float)\n",
    "#df_oneday.Concentration=pd.to_numeric(df_oneday.Concentration)\n",
    "#df_oneday.MonitorHr=pd.to_numeric(df_oneday.MonitorHr)\n",
    "\n",
    "#df_oneday.plot(x='MonitorHr', y='Concentration', style='o')\n",
    "df_oneday.plot.bar(x='MonitorHr', y='Concentration')\n",
    "plt.title(date_selected+ ': PM 2.5 (μg/m3)')\n",
    "plt.xlabel('Time(Hr)')  \n",
    "plt.ylabel('CO')  \n",
    "plt.show()\n"
   ]
  },
  {
   "cell_type": "markdown",
   "metadata": {
    "colab_type": "text",
    "id": "XSXh-JPGNjaV"
   },
   "source": [
    "从零开始学Python【13】--matplotlib(直方图)\n",
    "\n",
    "https://ask.hellobi.com/blog/lsxxx2011/10241"
   ]
  }
 ],
 "metadata": {
  "colab": {
   "collapsed_sections": [],
   "name": "實作：竹山 PM 2.5 空氣品質監測.ipynb",
   "provenance": []
  },
  "kernelspec": {
   "display_name": "Python 3",
   "language": "python",
   "name": "python3"
  },
  "language_info": {
   "codemirror_mode": {
    "name": "ipython",
    "version": 3
   },
   "file_extension": ".py",
   "mimetype": "text/x-python",
   "name": "python",
   "nbconvert_exporter": "python",
   "pygments_lexer": "ipython3",
   "version": "3.9.1"
  }
 },
 "nbformat": 4,
 "nbformat_minor": 4
}
